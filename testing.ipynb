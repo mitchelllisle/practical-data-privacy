{
 "cells": [
  {
   "cell_type": "markdown",
   "id": "6270a9d3-c273-4031-9775-f977ae962c3a",
   "metadata": {},
   "source": [
    "This is a test"
   ]
  },
  {
   "cell_type": "code",
   "execution_count": null,
   "id": "f5228f56-b522-4d0f-9577-78abc575ad6d",
   "metadata": {},
   "outputs": [],
   "source": []
  }
 ],
 "metadata": {
  "kernelspec": {
   "display_name": "Python 3 (ipykernel)",
   "language": "python",
   "name": "python3"
  },
  "language_info": {
   "codemirror_mode": {
    "name": "ipython",
    "version": 3
   },
   "file_extension": ".py",
   "mimetype": "text/x-python",
   "name": "python",
   "nbconvert_exporter": "python",
   "pygments_lexer": "ipython3",
   "version": "3.10.10"
  }
 },
 "nbformat": 4,
 "nbformat_minor": 5
}
